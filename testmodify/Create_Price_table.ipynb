{
 "cells": [
  {
   "cell_type": "code",
   "execution_count": 1,
   "metadata": {},
   "outputs": [],
   "source": [
    "import pandas as pd \n",
    "import matplotlib.pyplot as plt\n",
    "import numpy as np\n",
    "import seaborn as sns\n",
    "import os\n",
    "import glob\n",
    "import datetime\n",
    "\n",
    "%matplotlib inline\n",
    "\n",
    "# Data Loading\n",
    "data_file = '..\\\\data\\\\raw\\\\futureprice_corn_soy_2006-2020\\\\'\n",
    "\n",
    "#all_file = glob.glob(data_file + 'zcu*.csv')\n",
    "all_file = glob.glob(data_file + 'zsu*.csv')\n",
    "\n",
    "li = []\n",
    "for filename in all_file:\n",
    "    df = pd.read_csv(filename, header = 0)\n",
    "    li.append(df)\n",
    "frame = pd.concat(li,axis=0,ignore_index=True)\n",
    "\n",
    "#Clean data\n",
    "frame['timelen']=frame['Time'].apply(len)\n",
    "frame = frame[frame.timelen==10]\n",
    "\n",
    "#data transform\n",
    "frame['year']=frame['Time'].apply(lambda n: n.split('/')[2])\n",
    "frame['month']=frame['Time'].apply(lambda n: n.split('/')[0])\n",
    "frame['year']=pd.to_numeric(frame['year'])\n",
    "frame['month']=pd.to_numeric(frame['month'])\n",
    "frames = frame[['Open','year','month']]\n",
    "framet=frames.pivot_table(values ='Open', columns=['month'], index=['year'])\n",
    "\n",
    "#Market year from Sep-De --> shift\n",
    "framet[9]=framet[9].shift(1)\n",
    "framet[10]=framet[10].shift(1)\n",
    "framet[11]=framet[11].shift(1)\n",
    "framet[12]=framet[12].shift(1)\n",
    "\n",
    "# Save data\n",
    "#framet.to_csv('..\\\\data\\\\raw\\\\futureprice_corn_2006-2020.csv')\n",
    "framet.to_csv('..\\\\data\\\\raw\\\\futureprice_soy_2006-2020.csv')\n"
   ]
  },
  {
   "cell_type": "code",
   "execution_count": null,
   "metadata": {},
   "outputs": [],
   "source": []
  }
 ],
 "metadata": {
  "kernelspec": {
   "display_name": "Python 3",
   "language": "python",
   "name": "python3"
  },
  "language_info": {
   "codemirror_mode": {
    "name": "ipython",
    "version": 3
   },
   "file_extension": ".py",
   "mimetype": "text/x-python",
   "name": "python",
   "nbconvert_exporter": "python",
   "pygments_lexer": "ipython3",
   "version": "3.8.3"
  }
 },
 "nbformat": 4,
 "nbformat_minor": 4
}
